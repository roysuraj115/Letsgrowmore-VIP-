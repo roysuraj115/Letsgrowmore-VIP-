{
  "nbformat": 4,
  "nbformat_minor": 0,
  "metadata": {
    "colab": {
      "provenance": [],
      "collapsed_sections": [],
      "authorship_tag": "ABX9TyMdzmFru7Z/y7E1M5ghVw10",
      "include_colab_link": true
    },
    "kernelspec": {
      "name": "python3",
      "display_name": "Python 3"
    },
    "language_info": {
      "name": "python"
    }
  },
  "cells": [
    {
      "cell_type": "markdown",
      "metadata": {
        "id": "view-in-github",
        "colab_type": "text"
      },
      "source": [
        "<a href=\"https://colab.research.google.com/github/roysuraj115/Letsgrowmore-VIP-/blob/main/day_69.ipynb\" target=\"_parent\"><img src=\"https://colab.research.google.com/assets/colab-badge.svg\" alt=\"Open In Colab\"/></a>"
      ]
    },
    {
      "cell_type": "code",
      "execution_count": null,
      "metadata": {
        "id": "3AFALBA4DNmi"
      },
      "outputs": [],
      "source": [
        "import pandas as pd\n",
        "import numpy as np\n",
        "import seaborn as sns\n",
        "import matplotlib.pyplot as plt\n"
      ]
    },
    {
      "cell_type": "code",
      "source": [
        "df=pd.read_csv(\"diet.csv\")"
      ],
      "metadata": {
        "id": "uf_j-EifDusq"
      },
      "execution_count": null,
      "outputs": []
    },
    {
      "cell_type": "code",
      "source": [
        "df.head()"
      ],
      "metadata": {
        "colab": {
          "base_uri": "https://localhost:8080/",
          "height": 285
        },
        "id": "PzWAJkV5DzLA",
        "outputId": "e7e90854-3836-4c2d-8783-a4392acacfd9"
      },
      "execution_count": null,
      "outputs": [
        {
          "output_type": "execute_result",
          "data": {
            "text/plain": [
              "                 Foods Serving Size  Calories  Cholesterol (mg)  \\\n",
              "0      Frozen Broccoli    10 Oz Pkg      73.8               0.0   \n",
              "1          Frozen Corn      1/2 Cup      72.2               0.0   \n",
              "2  Raw Lettuce Iceberg       1 Leaf       2.6               0.0   \n",
              "3       Baked Potatoes      1/2 Cup     171.5               0.0   \n",
              "4                 Tofu    1/4 block      88.2               0.0   \n",
              "\n",
              "   Total_Fat (g)  Sodium (mg)  Carbohydrates (g)  Dietary_Fiber (g)  \\\n",
              "0            0.8         68.2               13.6                8.5   \n",
              "1            0.6          2.5               17.1                2.0   \n",
              "2            0.0          1.8                0.4                0.3   \n",
              "3            0.2         15.2               39.9                3.2   \n",
              "4            5.5          8.1                2.2                1.4   \n",
              "\n",
              "   Protein (g)  Vit_A (IU)  Vit_C (IU)  Calcium (mg)  Iron (mg)  \\\n",
              "0          8.0      5867.4       160.2         159.0        2.3   \n",
              "1          2.5       106.6         5.2           3.3        0.3   \n",
              "2          0.2        66.0         0.8           3.8        0.1   \n",
              "3          3.7         0.0        15.6          22.7        4.3   \n",
              "4          9.4        98.6         0.1         121.8        6.2   \n",
              "\n",
              "   Price/Serving ($)  \n",
              "0               0.48  \n",
              "1               0.54  \n",
              "2               0.06  \n",
              "3               0.18  \n",
              "4               0.93  "
            ],
            "text/html": [
              "\n",
              "  <div id=\"df-acb9757b-df0c-4d02-9403-a1f27d16283e\">\n",
              "    <div class=\"colab-df-container\">\n",
              "      <div>\n",
              "<style scoped>\n",
              "    .dataframe tbody tr th:only-of-type {\n",
              "        vertical-align: middle;\n",
              "    }\n",
              "\n",
              "    .dataframe tbody tr th {\n",
              "        vertical-align: top;\n",
              "    }\n",
              "\n",
              "    .dataframe thead th {\n",
              "        text-align: right;\n",
              "    }\n",
              "</style>\n",
              "<table border=\"1\" class=\"dataframe\">\n",
              "  <thead>\n",
              "    <tr style=\"text-align: right;\">\n",
              "      <th></th>\n",
              "      <th>Foods</th>\n",
              "      <th>Serving Size</th>\n",
              "      <th>Calories</th>\n",
              "      <th>Cholesterol (mg)</th>\n",
              "      <th>Total_Fat (g)</th>\n",
              "      <th>Sodium (mg)</th>\n",
              "      <th>Carbohydrates (g)</th>\n",
              "      <th>Dietary_Fiber (g)</th>\n",
              "      <th>Protein (g)</th>\n",
              "      <th>Vit_A (IU)</th>\n",
              "      <th>Vit_C (IU)</th>\n",
              "      <th>Calcium (mg)</th>\n",
              "      <th>Iron (mg)</th>\n",
              "      <th>Price/Serving ($)</th>\n",
              "    </tr>\n",
              "  </thead>\n",
              "  <tbody>\n",
              "    <tr>\n",
              "      <th>0</th>\n",
              "      <td>Frozen Broccoli</td>\n",
              "      <td>10 Oz Pkg</td>\n",
              "      <td>73.8</td>\n",
              "      <td>0.0</td>\n",
              "      <td>0.8</td>\n",
              "      <td>68.2</td>\n",
              "      <td>13.6</td>\n",
              "      <td>8.5</td>\n",
              "      <td>8.0</td>\n",
              "      <td>5867.4</td>\n",
              "      <td>160.2</td>\n",
              "      <td>159.0</td>\n",
              "      <td>2.3</td>\n",
              "      <td>0.48</td>\n",
              "    </tr>\n",
              "    <tr>\n",
              "      <th>1</th>\n",
              "      <td>Frozen Corn</td>\n",
              "      <td>1/2 Cup</td>\n",
              "      <td>72.2</td>\n",
              "      <td>0.0</td>\n",
              "      <td>0.6</td>\n",
              "      <td>2.5</td>\n",
              "      <td>17.1</td>\n",
              "      <td>2.0</td>\n",
              "      <td>2.5</td>\n",
              "      <td>106.6</td>\n",
              "      <td>5.2</td>\n",
              "      <td>3.3</td>\n",
              "      <td>0.3</td>\n",
              "      <td>0.54</td>\n",
              "    </tr>\n",
              "    <tr>\n",
              "      <th>2</th>\n",
              "      <td>Raw Lettuce Iceberg</td>\n",
              "      <td>1 Leaf</td>\n",
              "      <td>2.6</td>\n",
              "      <td>0.0</td>\n",
              "      <td>0.0</td>\n",
              "      <td>1.8</td>\n",
              "      <td>0.4</td>\n",
              "      <td>0.3</td>\n",
              "      <td>0.2</td>\n",
              "      <td>66.0</td>\n",
              "      <td>0.8</td>\n",
              "      <td>3.8</td>\n",
              "      <td>0.1</td>\n",
              "      <td>0.06</td>\n",
              "    </tr>\n",
              "    <tr>\n",
              "      <th>3</th>\n",
              "      <td>Baked Potatoes</td>\n",
              "      <td>1/2 Cup</td>\n",
              "      <td>171.5</td>\n",
              "      <td>0.0</td>\n",
              "      <td>0.2</td>\n",
              "      <td>15.2</td>\n",
              "      <td>39.9</td>\n",
              "      <td>3.2</td>\n",
              "      <td>3.7</td>\n",
              "      <td>0.0</td>\n",
              "      <td>15.6</td>\n",
              "      <td>22.7</td>\n",
              "      <td>4.3</td>\n",
              "      <td>0.18</td>\n",
              "    </tr>\n",
              "    <tr>\n",
              "      <th>4</th>\n",
              "      <td>Tofu</td>\n",
              "      <td>1/4 block</td>\n",
              "      <td>88.2</td>\n",
              "      <td>0.0</td>\n",
              "      <td>5.5</td>\n",
              "      <td>8.1</td>\n",
              "      <td>2.2</td>\n",
              "      <td>1.4</td>\n",
              "      <td>9.4</td>\n",
              "      <td>98.6</td>\n",
              "      <td>0.1</td>\n",
              "      <td>121.8</td>\n",
              "      <td>6.2</td>\n",
              "      <td>0.93</td>\n",
              "    </tr>\n",
              "  </tbody>\n",
              "</table>\n",
              "</div>\n",
              "      <button class=\"colab-df-convert\" onclick=\"convertToInteractive('df-acb9757b-df0c-4d02-9403-a1f27d16283e')\"\n",
              "              title=\"Convert this dataframe to an interactive table.\"\n",
              "              style=\"display:none;\">\n",
              "        \n",
              "  <svg xmlns=\"http://www.w3.org/2000/svg\" height=\"24px\"viewBox=\"0 0 24 24\"\n",
              "       width=\"24px\">\n",
              "    <path d=\"M0 0h24v24H0V0z\" fill=\"none\"/>\n",
              "    <path d=\"M18.56 5.44l.94 2.06.94-2.06 2.06-.94-2.06-.94-.94-2.06-.94 2.06-2.06.94zm-11 1L8.5 8.5l.94-2.06 2.06-.94-2.06-.94L8.5 2.5l-.94 2.06-2.06.94zm10 10l.94 2.06.94-2.06 2.06-.94-2.06-.94-.94-2.06-.94 2.06-2.06.94z\"/><path d=\"M17.41 7.96l-1.37-1.37c-.4-.4-.92-.59-1.43-.59-.52 0-1.04.2-1.43.59L10.3 9.45l-7.72 7.72c-.78.78-.78 2.05 0 2.83L4 21.41c.39.39.9.59 1.41.59.51 0 1.02-.2 1.41-.59l7.78-7.78 2.81-2.81c.8-.78.8-2.07 0-2.86zM5.41 20L4 18.59l7.72-7.72 1.47 1.35L5.41 20z\"/>\n",
              "  </svg>\n",
              "      </button>\n",
              "      \n",
              "  <style>\n",
              "    .colab-df-container {\n",
              "      display:flex;\n",
              "      flex-wrap:wrap;\n",
              "      gap: 12px;\n",
              "    }\n",
              "\n",
              "    .colab-df-convert {\n",
              "      background-color: #E8F0FE;\n",
              "      border: none;\n",
              "      border-radius: 50%;\n",
              "      cursor: pointer;\n",
              "      display: none;\n",
              "      fill: #1967D2;\n",
              "      height: 32px;\n",
              "      padding: 0 0 0 0;\n",
              "      width: 32px;\n",
              "    }\n",
              "\n",
              "    .colab-df-convert:hover {\n",
              "      background-color: #E2EBFA;\n",
              "      box-shadow: 0px 1px 2px rgba(60, 64, 67, 0.3), 0px 1px 3px 1px rgba(60, 64, 67, 0.15);\n",
              "      fill: #174EA6;\n",
              "    }\n",
              "\n",
              "    [theme=dark] .colab-df-convert {\n",
              "      background-color: #3B4455;\n",
              "      fill: #D2E3FC;\n",
              "    }\n",
              "\n",
              "    [theme=dark] .colab-df-convert:hover {\n",
              "      background-color: #434B5C;\n",
              "      box-shadow: 0px 1px 3px 1px rgba(0, 0, 0, 0.15);\n",
              "      filter: drop-shadow(0px 1px 2px rgba(0, 0, 0, 0.3));\n",
              "      fill: #FFFFFF;\n",
              "    }\n",
              "  </style>\n",
              "\n",
              "      <script>\n",
              "        const buttonEl =\n",
              "          document.querySelector('#df-acb9757b-df0c-4d02-9403-a1f27d16283e button.colab-df-convert');\n",
              "        buttonEl.style.display =\n",
              "          google.colab.kernel.accessAllowed ? 'block' : 'none';\n",
              "\n",
              "        async function convertToInteractive(key) {\n",
              "          const element = document.querySelector('#df-acb9757b-df0c-4d02-9403-a1f27d16283e');\n",
              "          const dataTable =\n",
              "            await google.colab.kernel.invokeFunction('convertToInteractive',\n",
              "                                                     [key], {});\n",
              "          if (!dataTable) return;\n",
              "\n",
              "          const docLinkHtml = 'Like what you see? Visit the ' +\n",
              "            '<a target=\"_blank\" href=https://colab.research.google.com/notebooks/data_table.ipynb>data table notebook</a>'\n",
              "            + ' to learn more about interactive tables.';\n",
              "          element.innerHTML = '';\n",
              "          dataTable['output_type'] = 'display_data';\n",
              "          await google.colab.output.renderOutput(dataTable, element);\n",
              "          const docLink = document.createElement('div');\n",
              "          docLink.innerHTML = docLinkHtml;\n",
              "          element.appendChild(docLink);\n",
              "        }\n",
              "      </script>\n",
              "    </div>\n",
              "  </div>\n",
              "  "
            ]
          },
          "metadata": {},
          "execution_count": 247
        }
      ]
    },
    {
      "cell_type": "code",
      "source": [
        "df.isnull().sum()"
      ],
      "metadata": {
        "colab": {
          "base_uri": "https://localhost:8080/"
        },
        "id": "gkfTMQO3D0vA",
        "outputId": "cb59d2dc-3361-4903-ae2a-e53c31e4538a"
      },
      "execution_count": null,
      "outputs": [
        {
          "output_type": "execute_result",
          "data": {
            "text/plain": [
              "Foods                0\n",
              "Serving Size         0\n",
              "Calories             0\n",
              "Cholesterol (mg)     0\n",
              "Total_Fat (g)        0\n",
              "Sodium (mg)          0\n",
              "Carbohydrates (g)    0\n",
              "Dietary_Fiber (g)    0\n",
              "Protein (g)          0\n",
              "Vit_A (IU)           0\n",
              "Vit_C (IU)           0\n",
              "Calcium (mg)         0\n",
              "Iron (mg)            0\n",
              "Price/Serving ($)    0\n",
              "dtype: int64"
            ]
          },
          "metadata": {},
          "execution_count": 248
        }
      ]
    },
    {
      "cell_type": "code",
      "source": [
        "df.info()"
      ],
      "metadata": {
        "colab": {
          "base_uri": "https://localhost:8080/"
        },
        "id": "8ZAtNqh8EDnq",
        "outputId": "d17ac0b2-dd48-4ce6-ce3d-8702d6ece5a7"
      },
      "execution_count": null,
      "outputs": [
        {
          "output_type": "stream",
          "name": "stdout",
          "text": [
            "<class 'pandas.core.frame.DataFrame'>\n",
            "RangeIndex: 17 entries, 0 to 16\n",
            "Data columns (total 14 columns):\n",
            " #   Column             Non-Null Count  Dtype  \n",
            "---  ------             --------------  -----  \n",
            " 0   Foods              17 non-null     object \n",
            " 1   Serving Size       17 non-null     object \n",
            " 2   Calories           17 non-null     float64\n",
            " 3   Cholesterol (mg)   17 non-null     float64\n",
            " 4   Total_Fat (g)      17 non-null     float64\n",
            " 5   Sodium (mg)        17 non-null     float64\n",
            " 6   Carbohydrates (g)  17 non-null     float64\n",
            " 7   Dietary_Fiber (g)  17 non-null     float64\n",
            " 8   Protein (g)        17 non-null     float64\n",
            " 9   Vit_A (IU)         17 non-null     float64\n",
            " 10  Vit_C (IU)         17 non-null     float64\n",
            " 11  Calcium (mg)       17 non-null     float64\n",
            " 12  Iron (mg)          17 non-null     float64\n",
            " 13  Price/Serving ($)  17 non-null     float64\n",
            "dtypes: float64(12), object(2)\n",
            "memory usage: 2.0+ KB\n"
          ]
        }
      ]
    },
    {
      "cell_type": "code",
      "source": [
        "!pip install pulp"
      ],
      "metadata": {
        "colab": {
          "base_uri": "https://localhost:8080/"
        },
        "id": "W5GDP7i3EGco",
        "outputId": "3c6ff734-0325-40e1-8794-e657d26207a2"
      },
      "execution_count": null,
      "outputs": [
        {
          "output_type": "stream",
          "name": "stdout",
          "text": [
            "Looking in indexes: https://pypi.org/simple, https://us-python.pkg.dev/colab-wheels/public/simple/\n",
            "Requirement already satisfied: pulp in /usr/local/lib/python3.7/dist-packages (2.6.0)\n"
          ]
        }
      ]
    },
    {
      "cell_type": "code",
      "source": [
        "import pulp as pl"
      ],
      "metadata": {
        "id": "4T7gWbjqEMJ4"
      },
      "execution_count": null,
      "outputs": []
    },
    {
      "cell_type": "code",
      "source": [
        "#Define Linear programming status here\n",
        "max_nutrition = pl.LpProblem(\"diet_Problem\",pl.LpMinimize)"
      ],
      "metadata": {
        "id": "4i2woCYyEomf"
      },
      "execution_count": null,
      "outputs": []
    },
    {
      "cell_type": "code",
      "source": [
        "x=list(df[\"Foods\"])\n",
        "count=pd.Series(range(1,len(x)+1))\n",
        "food=pd.Series(x)\n",
        "foods=pd.concat([count,food],axis=1,keys=[\"S.no\",\"Food_items\"])\n",
        "foods"
      ],
      "metadata": {
        "colab": {
          "base_uri": "https://localhost:8080/",
          "height": 582
        },
        "id": "aU9RhZ0eGRWw",
        "outputId": "07efba9b-ace8-4962-f304-8303dbc6ef6d"
      },
      "execution_count": null,
      "outputs": [
        {
          "output_type": "execute_result",
          "data": {
            "text/plain": [
              "    S.no              Food_items\n",
              "0      1         Frozen Broccoli\n",
              "1      2             Frozen Corn\n",
              "2      3     Raw Lettuce Iceberg\n",
              "3      4          Baked Potatoes\n",
              "4      5                    Tofu\n",
              "5      6         Roasted Chicken\n",
              "6      7      Spaghetti W/ Sauce\n",
              "7      8               Raw Apple\n",
              "8      9                  Banana\n",
              "9     10             Wheat Bread\n",
              "10    11             White Bread\n",
              "11    12         Oatmeal Cookies\n",
              "12    13               Apple Pie\n",
              "13    14          Scrambled Eggs\n",
              "14    15          Turkey Bologna\n",
              "15    16        Beef Frankfurter\n",
              "16    17  Chocolate Chip Cookies"
            ],
            "text/html": [
              "\n",
              "  <div id=\"df-346b4ecb-a2e2-4f1a-a23b-b038ea892f4a\">\n",
              "    <div class=\"colab-df-container\">\n",
              "      <div>\n",
              "<style scoped>\n",
              "    .dataframe tbody tr th:only-of-type {\n",
              "        vertical-align: middle;\n",
              "    }\n",
              "\n",
              "    .dataframe tbody tr th {\n",
              "        vertical-align: top;\n",
              "    }\n",
              "\n",
              "    .dataframe thead th {\n",
              "        text-align: right;\n",
              "    }\n",
              "</style>\n",
              "<table border=\"1\" class=\"dataframe\">\n",
              "  <thead>\n",
              "    <tr style=\"text-align: right;\">\n",
              "      <th></th>\n",
              "      <th>S.no</th>\n",
              "      <th>Food_items</th>\n",
              "    </tr>\n",
              "  </thead>\n",
              "  <tbody>\n",
              "    <tr>\n",
              "      <th>0</th>\n",
              "      <td>1</td>\n",
              "      <td>Frozen Broccoli</td>\n",
              "    </tr>\n",
              "    <tr>\n",
              "      <th>1</th>\n",
              "      <td>2</td>\n",
              "      <td>Frozen Corn</td>\n",
              "    </tr>\n",
              "    <tr>\n",
              "      <th>2</th>\n",
              "      <td>3</td>\n",
              "      <td>Raw Lettuce Iceberg</td>\n",
              "    </tr>\n",
              "    <tr>\n",
              "      <th>3</th>\n",
              "      <td>4</td>\n",
              "      <td>Baked Potatoes</td>\n",
              "    </tr>\n",
              "    <tr>\n",
              "      <th>4</th>\n",
              "      <td>5</td>\n",
              "      <td>Tofu</td>\n",
              "    </tr>\n",
              "    <tr>\n",
              "      <th>5</th>\n",
              "      <td>6</td>\n",
              "      <td>Roasted Chicken</td>\n",
              "    </tr>\n",
              "    <tr>\n",
              "      <th>6</th>\n",
              "      <td>7</td>\n",
              "      <td>Spaghetti W/ Sauce</td>\n",
              "    </tr>\n",
              "    <tr>\n",
              "      <th>7</th>\n",
              "      <td>8</td>\n",
              "      <td>Raw Apple</td>\n",
              "    </tr>\n",
              "    <tr>\n",
              "      <th>8</th>\n",
              "      <td>9</td>\n",
              "      <td>Banana</td>\n",
              "    </tr>\n",
              "    <tr>\n",
              "      <th>9</th>\n",
              "      <td>10</td>\n",
              "      <td>Wheat Bread</td>\n",
              "    </tr>\n",
              "    <tr>\n",
              "      <th>10</th>\n",
              "      <td>11</td>\n",
              "      <td>White Bread</td>\n",
              "    </tr>\n",
              "    <tr>\n",
              "      <th>11</th>\n",
              "      <td>12</td>\n",
              "      <td>Oatmeal Cookies</td>\n",
              "    </tr>\n",
              "    <tr>\n",
              "      <th>12</th>\n",
              "      <td>13</td>\n",
              "      <td>Apple Pie</td>\n",
              "    </tr>\n",
              "    <tr>\n",
              "      <th>13</th>\n",
              "      <td>14</td>\n",
              "      <td>Scrambled Eggs</td>\n",
              "    </tr>\n",
              "    <tr>\n",
              "      <th>14</th>\n",
              "      <td>15</td>\n",
              "      <td>Turkey Bologna</td>\n",
              "    </tr>\n",
              "    <tr>\n",
              "      <th>15</th>\n",
              "      <td>16</td>\n",
              "      <td>Beef Frankfurter</td>\n",
              "    </tr>\n",
              "    <tr>\n",
              "      <th>16</th>\n",
              "      <td>17</td>\n",
              "      <td>Chocolate Chip Cookies</td>\n",
              "    </tr>\n",
              "  </tbody>\n",
              "</table>\n",
              "</div>\n",
              "      <button class=\"colab-df-convert\" onclick=\"convertToInteractive('df-346b4ecb-a2e2-4f1a-a23b-b038ea892f4a')\"\n",
              "              title=\"Convert this dataframe to an interactive table.\"\n",
              "              style=\"display:none;\">\n",
              "        \n",
              "  <svg xmlns=\"http://www.w3.org/2000/svg\" height=\"24px\"viewBox=\"0 0 24 24\"\n",
              "       width=\"24px\">\n",
              "    <path d=\"M0 0h24v24H0V0z\" fill=\"none\"/>\n",
              "    <path d=\"M18.56 5.44l.94 2.06.94-2.06 2.06-.94-2.06-.94-.94-2.06-.94 2.06-2.06.94zm-11 1L8.5 8.5l.94-2.06 2.06-.94-2.06-.94L8.5 2.5l-.94 2.06-2.06.94zm10 10l.94 2.06.94-2.06 2.06-.94-2.06-.94-.94-2.06-.94 2.06-2.06.94z\"/><path d=\"M17.41 7.96l-1.37-1.37c-.4-.4-.92-.59-1.43-.59-.52 0-1.04.2-1.43.59L10.3 9.45l-7.72 7.72c-.78.78-.78 2.05 0 2.83L4 21.41c.39.39.9.59 1.41.59.51 0 1.02-.2 1.41-.59l7.78-7.78 2.81-2.81c.8-.78.8-2.07 0-2.86zM5.41 20L4 18.59l7.72-7.72 1.47 1.35L5.41 20z\"/>\n",
              "  </svg>\n",
              "      </button>\n",
              "      \n",
              "  <style>\n",
              "    .colab-df-container {\n",
              "      display:flex;\n",
              "      flex-wrap:wrap;\n",
              "      gap: 12px;\n",
              "    }\n",
              "\n",
              "    .colab-df-convert {\n",
              "      background-color: #E8F0FE;\n",
              "      border: none;\n",
              "      border-radius: 50%;\n",
              "      cursor: pointer;\n",
              "      display: none;\n",
              "      fill: #1967D2;\n",
              "      height: 32px;\n",
              "      padding: 0 0 0 0;\n",
              "      width: 32px;\n",
              "    }\n",
              "\n",
              "    .colab-df-convert:hover {\n",
              "      background-color: #E2EBFA;\n",
              "      box-shadow: 0px 1px 2px rgba(60, 64, 67, 0.3), 0px 1px 3px 1px rgba(60, 64, 67, 0.15);\n",
              "      fill: #174EA6;\n",
              "    }\n",
              "\n",
              "    [theme=dark] .colab-df-convert {\n",
              "      background-color: #3B4455;\n",
              "      fill: #D2E3FC;\n",
              "    }\n",
              "\n",
              "    [theme=dark] .colab-df-convert:hover {\n",
              "      background-color: #434B5C;\n",
              "      box-shadow: 0px 1px 3px 1px rgba(0, 0, 0, 0.15);\n",
              "      filter: drop-shadow(0px 1px 2px rgba(0, 0, 0, 0.3));\n",
              "      fill: #FFFFFF;\n",
              "    }\n",
              "  </style>\n",
              "\n",
              "      <script>\n",
              "        const buttonEl =\n",
              "          document.querySelector('#df-346b4ecb-a2e2-4f1a-a23b-b038ea892f4a button.colab-df-convert');\n",
              "        buttonEl.style.display =\n",
              "          google.colab.kernel.accessAllowed ? 'block' : 'none';\n",
              "\n",
              "        async function convertToInteractive(key) {\n",
              "          const element = document.querySelector('#df-346b4ecb-a2e2-4f1a-a23b-b038ea892f4a');\n",
              "          const dataTable =\n",
              "            await google.colab.kernel.invokeFunction('convertToInteractive',\n",
              "                                                     [key], {});\n",
              "          if (!dataTable) return;\n",
              "\n",
              "          const docLinkHtml = 'Like what you see? Visit the ' +\n",
              "            '<a target=\"_blank\" href=https://colab.research.google.com/notebooks/data_table.ipynb>data table notebook</a>'\n",
              "            + ' to learn more about interactive tables.';\n",
              "          element.innerHTML = '';\n",
              "          dataTable['output_type'] = 'display_data';\n",
              "          await google.colab.output.renderOutput(dataTable, element);\n",
              "          const docLink = document.createElement('div');\n",
              "          docLink.innerHTML = docLinkHtml;\n",
              "          element.appendChild(docLink);\n",
              "        }\n",
              "      </script>\n",
              "    </div>\n",
              "  </div>\n",
              "  "
            ]
          },
          "metadata": {},
          "execution_count": 253
        }
      ]
    },
    {
      "cell_type": "code",
      "source": [],
      "metadata": {
        "id": "HgQj-NEYGXON"
      },
      "execution_count": null,
      "outputs": []
    },
    {
      "cell_type": "markdown",
      "source": [
        "Create a separate dictionary for each of these columns -'Price/Serving', 'Calories', 'Cholesterol (mg)', 'Total_Fat (g)', 'Sodium (mg)', 'Carbohydrates (g)', 'Dietary_Fiber (g)', 'Protein (g)', 'Vit_A (IU)', 'Vit_C (IU)', 'Calcium (mg)', and 'Iron (mg)'using zip()function"
      ],
      "metadata": {
        "id": "W91NF0KFGtMm"
      }
    },
    {
      "cell_type": "code",
      "source": [
        "cost=dict(zip(x,df[\"Price/Serving ($)\"]))\n",
        "Calories=dict(zip(x,df[\"Calories\"]))\n",
        "Cholesterol=dict(zip(x,df[\"Cholesterol (mg)\"]))\n",
        "Total_Fat=dict(zip(x,df[\"Total_Fat (g)\"]))\n",
        "Sodium=dict(zip(x,df[\"Sodium (mg)\"]))\n",
        "Carbohydrates=dict(zip(x,df[\"Carbohydrates (g)\"]))\n",
        "Dietary_Fiber=dict(zip(x,df[\"Dietary_Fiber (g)\"]))\n",
        "Protein=dict(zip(x,df[\"Protein (g)\"]))\n",
        "Vit_A=dict(zip(x,df[\"Vit_A (IU)\"]))\n",
        "Vit_C=dict(zip(x,df[\"Vit_C (IU)\"]))\n",
        "Calcium=dict(zip(x,df[\"Calcium (mg)\"]))\n",
        "Iron=dict(zip(x,df[\"Iron (mg)\"]))"
      ],
      "metadata": {
        "id": "pXIrZbYcGfVN"
      },
      "execution_count": null,
      "outputs": []
    },
    {
      "cell_type": "code",
      "source": [
        "cost"
      ],
      "metadata": {
        "colab": {
          "base_uri": "https://localhost:8080/"
        },
        "id": "Z969JCE-G4AF",
        "outputId": "15d8bfba-0a92-4f48-a1cb-fac11d75b9fe"
      },
      "execution_count": null,
      "outputs": [
        {
          "output_type": "execute_result",
          "data": {
            "text/plain": [
              "{'Frozen Broccoli': 0.48,\n",
              " 'Frozen Corn': 0.54,\n",
              " 'Raw Lettuce Iceberg': 0.06,\n",
              " ' Baked Potatoes': 0.18,\n",
              " 'Tofu': 0.93,\n",
              " 'Roasted Chicken': 2.52,\n",
              " 'Spaghetti W/ Sauce': 2.34,\n",
              " 'Raw Apple': 0.72,\n",
              " 'Banana': 0.45,\n",
              " 'Wheat Bread': 0.15,\n",
              " 'White Bread': 0.18,\n",
              " 'Oatmeal Cookies': 0.27,\n",
              " 'Apple Pie': 0.48,\n",
              " 'Scrambled Eggs': 0.33,\n",
              " 'Turkey Bologna': 0.45,\n",
              " 'Beef Frankfurter': 0.81,\n",
              " 'Chocolate Chip Cookies': 0.09}"
            ]
          },
          "metadata": {},
          "execution_count": 255
        }
      ]
    },
    {
      "cell_type": "code",
      "source": [
        "food_vars=pl.LpVariable.dicts(\"Foods\",x,lowBound=0,cat=\"Continuous\")\n",
        "food_vars"
      ],
      "metadata": {
        "colab": {
          "base_uri": "https://localhost:8080/"
        },
        "id": "Jnf7e82XHHyF",
        "outputId": "5439da9c-71e6-4f92-90d1-d5944b207c80"
      },
      "execution_count": null,
      "outputs": [
        {
          "output_type": "execute_result",
          "data": {
            "text/plain": [
              "{'Frozen Broccoli': Foods_Frozen_Broccoli,\n",
              " 'Frozen Corn': Foods_Frozen_Corn,\n",
              " 'Raw Lettuce Iceberg': Foods_Raw_Lettuce_Iceberg,\n",
              " ' Baked Potatoes': Foods__Baked_Potatoes,\n",
              " 'Tofu': Foods_Tofu,\n",
              " 'Roasted Chicken': Foods_Roasted_Chicken,\n",
              " 'Spaghetti W/ Sauce': Foods_Spaghetti_W__Sauce,\n",
              " 'Raw Apple': Foods_Raw_Apple,\n",
              " 'Banana': Foods_Banana,\n",
              " 'Wheat Bread': Foods_Wheat_Bread,\n",
              " 'White Bread': Foods_White_Bread,\n",
              " 'Oatmeal Cookies': Foods_Oatmeal_Cookies,\n",
              " 'Apple Pie': Foods_Apple_Pie,\n",
              " 'Scrambled Eggs': Foods_Scrambled_Eggs,\n",
              " 'Turkey Bologna': Foods_Turkey_Bologna,\n",
              " 'Beef Frankfurter': Foods_Beef_Frankfurter,\n",
              " 'Chocolate Chip Cookies': Foods_Chocolate_Chip_Cookies}"
            ]
          },
          "metadata": {},
          "execution_count": 256
        }
      ]
    },
    {
      "cell_type": "code",
      "source": [
        "max_nutrition+=pl.lpSum([cost[i]*food_vars[i] for i in x])\n",
        "max_nutrition"
      ],
      "metadata": {
        "colab": {
          "base_uri": "https://localhost:8080/"
        },
        "id": "u7IRGT8kOGdy",
        "outputId": "6832354b-fd36-412c-80aa-3b1dae75d4e8"
      },
      "execution_count": null,
      "outputs": [
        {
          "output_type": "execute_result",
          "data": {
            "text/plain": [
              "diet_Problem:\n",
              "MINIMIZE\n",
              "0.48*Foods_Apple_Pie + 0.45*Foods_Banana + 0.81*Foods_Beef_Frankfurter + 0.09*Foods_Chocolate_Chip_Cookies + 0.48*Foods_Frozen_Broccoli + 0.54*Foods_Frozen_Corn + 0.27*Foods_Oatmeal_Cookies + 0.72*Foods_Raw_Apple + 0.06*Foods_Raw_Lettuce_Iceberg + 2.52*Foods_Roasted_Chicken + 0.33*Foods_Scrambled_Eggs + 2.34*Foods_Spaghetti_W__Sauce + 0.93*Foods_Tofu + 0.45*Foods_Turkey_Bologna + 0.15*Foods_Wheat_Bread + 0.18*Foods_White_Bread + 0.18*Foods__Baked_Potatoes + 0.0\n",
              "VARIABLES\n",
              "Foods_Apple_Pie Continuous\n",
              "Foods_Banana Continuous\n",
              "Foods_Beef_Frankfurter Continuous\n",
              "Foods_Chocolate_Chip_Cookies Continuous\n",
              "Foods_Frozen_Broccoli Continuous\n",
              "Foods_Frozen_Corn Continuous\n",
              "Foods_Oatmeal_Cookies Continuous\n",
              "Foods_Raw_Apple Continuous\n",
              "Foods_Raw_Lettuce_Iceberg Continuous\n",
              "Foods_Roasted_Chicken Continuous\n",
              "Foods_Scrambled_Eggs Continuous\n",
              "Foods_Spaghetti_W__Sauce Continuous\n",
              "Foods_Tofu Continuous\n",
              "Foods_Turkey_Bologna Continuous\n",
              "Foods_Wheat_Bread Continuous\n",
              "Foods_White_Bread Continuous\n",
              "Foods__Baked_Potatoes Continuous"
            ]
          },
          "metadata": {},
          "execution_count": 257
        }
      ]
    },
    {
      "cell_type": "code",
      "source": [
        "pl.lpSum([food_vars[i]*Calories[i] for i in x])"
      ],
      "metadata": {
        "colab": {
          "base_uri": "https://localhost:8080/"
        },
        "id": "lN_hSU9hXOK8",
        "outputId": "ddcfc5dc-d9c2-471b-8e6e-318112d0af37"
      },
      "execution_count": null,
      "outputs": [
        {
          "output_type": "execute_result",
          "data": {
            "text/plain": [
              "67.2*Foods_Apple_Pie + 104.9*Foods_Banana + 141.8*Foods_Beef_Frankfurter + 78.1*Foods_Chocolate_Chip_Cookies + 73.8*Foods_Frozen_Broccoli + 72.2*Foods_Frozen_Corn + 81.0*Foods_Oatmeal_Cookies + 81.4*Foods_Raw_Apple + 2.6*Foods_Raw_Lettuce_Iceberg + 277.4*Foods_Roasted_Chicken + 99.6*Foods_Scrambled_Eggs + 358.2*Foods_Spaghetti_W__Sauce + 88.2*Foods_Tofu + 56.4*Foods_Turkey_Bologna + 65.0*Foods_Wheat_Bread + 65.0*Foods_White_Bread + 171.5*Foods__Baked_Potatoes + 0.0"
            ]
          },
          "metadata": {},
          "execution_count": 258
        }
      ]
    },
    {
      "cell_type": "code",
      "source": [
        "df[['Foods','Calories']]"
      ],
      "metadata": {
        "colab": {
          "base_uri": "https://localhost:8080/",
          "height": 582
        },
        "id": "uYYDxJ5lYphs",
        "outputId": "90825e40-a6fa-431f-cc1b-5e0fc9b65a96"
      },
      "execution_count": null,
      "outputs": [
        {
          "output_type": "execute_result",
          "data": {
            "text/plain": [
              "                     Foods  Calories\n",
              "0          Frozen Broccoli      73.8\n",
              "1              Frozen Corn      72.2\n",
              "2      Raw Lettuce Iceberg       2.6\n",
              "3           Baked Potatoes     171.5\n",
              "4                     Tofu      88.2\n",
              "5          Roasted Chicken     277.4\n",
              "6       Spaghetti W/ Sauce     358.2\n",
              "7                Raw Apple      81.4\n",
              "8                   Banana     104.9\n",
              "9              Wheat Bread      65.0\n",
              "10             White Bread      65.0\n",
              "11         Oatmeal Cookies      81.0\n",
              "12               Apple Pie      67.2\n",
              "13          Scrambled Eggs      99.6\n",
              "14          Turkey Bologna      56.4\n",
              "15        Beef Frankfurter     141.8\n",
              "16  Chocolate Chip Cookies      78.1"
            ],
            "text/html": [
              "\n",
              "  <div id=\"df-68699d3c-19fa-4547-b5dc-ee006988f77c\">\n",
              "    <div class=\"colab-df-container\">\n",
              "      <div>\n",
              "<style scoped>\n",
              "    .dataframe tbody tr th:only-of-type {\n",
              "        vertical-align: middle;\n",
              "    }\n",
              "\n",
              "    .dataframe tbody tr th {\n",
              "        vertical-align: top;\n",
              "    }\n",
              "\n",
              "    .dataframe thead th {\n",
              "        text-align: right;\n",
              "    }\n",
              "</style>\n",
              "<table border=\"1\" class=\"dataframe\">\n",
              "  <thead>\n",
              "    <tr style=\"text-align: right;\">\n",
              "      <th></th>\n",
              "      <th>Foods</th>\n",
              "      <th>Calories</th>\n",
              "    </tr>\n",
              "  </thead>\n",
              "  <tbody>\n",
              "    <tr>\n",
              "      <th>0</th>\n",
              "      <td>Frozen Broccoli</td>\n",
              "      <td>73.8</td>\n",
              "    </tr>\n",
              "    <tr>\n",
              "      <th>1</th>\n",
              "      <td>Frozen Corn</td>\n",
              "      <td>72.2</td>\n",
              "    </tr>\n",
              "    <tr>\n",
              "      <th>2</th>\n",
              "      <td>Raw Lettuce Iceberg</td>\n",
              "      <td>2.6</td>\n",
              "    </tr>\n",
              "    <tr>\n",
              "      <th>3</th>\n",
              "      <td>Baked Potatoes</td>\n",
              "      <td>171.5</td>\n",
              "    </tr>\n",
              "    <tr>\n",
              "      <th>4</th>\n",
              "      <td>Tofu</td>\n",
              "      <td>88.2</td>\n",
              "    </tr>\n",
              "    <tr>\n",
              "      <th>5</th>\n",
              "      <td>Roasted Chicken</td>\n",
              "      <td>277.4</td>\n",
              "    </tr>\n",
              "    <tr>\n",
              "      <th>6</th>\n",
              "      <td>Spaghetti W/ Sauce</td>\n",
              "      <td>358.2</td>\n",
              "    </tr>\n",
              "    <tr>\n",
              "      <th>7</th>\n",
              "      <td>Raw Apple</td>\n",
              "      <td>81.4</td>\n",
              "    </tr>\n",
              "    <tr>\n",
              "      <th>8</th>\n",
              "      <td>Banana</td>\n",
              "      <td>104.9</td>\n",
              "    </tr>\n",
              "    <tr>\n",
              "      <th>9</th>\n",
              "      <td>Wheat Bread</td>\n",
              "      <td>65.0</td>\n",
              "    </tr>\n",
              "    <tr>\n",
              "      <th>10</th>\n",
              "      <td>White Bread</td>\n",
              "      <td>65.0</td>\n",
              "    </tr>\n",
              "    <tr>\n",
              "      <th>11</th>\n",
              "      <td>Oatmeal Cookies</td>\n",
              "      <td>81.0</td>\n",
              "    </tr>\n",
              "    <tr>\n",
              "      <th>12</th>\n",
              "      <td>Apple Pie</td>\n",
              "      <td>67.2</td>\n",
              "    </tr>\n",
              "    <tr>\n",
              "      <th>13</th>\n",
              "      <td>Scrambled Eggs</td>\n",
              "      <td>99.6</td>\n",
              "    </tr>\n",
              "    <tr>\n",
              "      <th>14</th>\n",
              "      <td>Turkey Bologna</td>\n",
              "      <td>56.4</td>\n",
              "    </tr>\n",
              "    <tr>\n",
              "      <th>15</th>\n",
              "      <td>Beef Frankfurter</td>\n",
              "      <td>141.8</td>\n",
              "    </tr>\n",
              "    <tr>\n",
              "      <th>16</th>\n",
              "      <td>Chocolate Chip Cookies</td>\n",
              "      <td>78.1</td>\n",
              "    </tr>\n",
              "  </tbody>\n",
              "</table>\n",
              "</div>\n",
              "      <button class=\"colab-df-convert\" onclick=\"convertToInteractive('df-68699d3c-19fa-4547-b5dc-ee006988f77c')\"\n",
              "              title=\"Convert this dataframe to an interactive table.\"\n",
              "              style=\"display:none;\">\n",
              "        \n",
              "  <svg xmlns=\"http://www.w3.org/2000/svg\" height=\"24px\"viewBox=\"0 0 24 24\"\n",
              "       width=\"24px\">\n",
              "    <path d=\"M0 0h24v24H0V0z\" fill=\"none\"/>\n",
              "    <path d=\"M18.56 5.44l.94 2.06.94-2.06 2.06-.94-2.06-.94-.94-2.06-.94 2.06-2.06.94zm-11 1L8.5 8.5l.94-2.06 2.06-.94-2.06-.94L8.5 2.5l-.94 2.06-2.06.94zm10 10l.94 2.06.94-2.06 2.06-.94-2.06-.94-.94-2.06-.94 2.06-2.06.94z\"/><path d=\"M17.41 7.96l-1.37-1.37c-.4-.4-.92-.59-1.43-.59-.52 0-1.04.2-1.43.59L10.3 9.45l-7.72 7.72c-.78.78-.78 2.05 0 2.83L4 21.41c.39.39.9.59 1.41.59.51 0 1.02-.2 1.41-.59l7.78-7.78 2.81-2.81c.8-.78.8-2.07 0-2.86zM5.41 20L4 18.59l7.72-7.72 1.47 1.35L5.41 20z\"/>\n",
              "  </svg>\n",
              "      </button>\n",
              "      \n",
              "  <style>\n",
              "    .colab-df-container {\n",
              "      display:flex;\n",
              "      flex-wrap:wrap;\n",
              "      gap: 12px;\n",
              "    }\n",
              "\n",
              "    .colab-df-convert {\n",
              "      background-color: #E8F0FE;\n",
              "      border: none;\n",
              "      border-radius: 50%;\n",
              "      cursor: pointer;\n",
              "      display: none;\n",
              "      fill: #1967D2;\n",
              "      height: 32px;\n",
              "      padding: 0 0 0 0;\n",
              "      width: 32px;\n",
              "    }\n",
              "\n",
              "    .colab-df-convert:hover {\n",
              "      background-color: #E2EBFA;\n",
              "      box-shadow: 0px 1px 2px rgba(60, 64, 67, 0.3), 0px 1px 3px 1px rgba(60, 64, 67, 0.15);\n",
              "      fill: #174EA6;\n",
              "    }\n",
              "\n",
              "    [theme=dark] .colab-df-convert {\n",
              "      background-color: #3B4455;\n",
              "      fill: #D2E3FC;\n",
              "    }\n",
              "\n",
              "    [theme=dark] .colab-df-convert:hover {\n",
              "      background-color: #434B5C;\n",
              "      box-shadow: 0px 1px 3px 1px rgba(0, 0, 0, 0.15);\n",
              "      filter: drop-shadow(0px 1px 2px rgba(0, 0, 0, 0.3));\n",
              "      fill: #FFFFFF;\n",
              "    }\n",
              "  </style>\n",
              "\n",
              "      <script>\n",
              "        const buttonEl =\n",
              "          document.querySelector('#df-68699d3c-19fa-4547-b5dc-ee006988f77c button.colab-df-convert');\n",
              "        buttonEl.style.display =\n",
              "          google.colab.kernel.accessAllowed ? 'block' : 'none';\n",
              "\n",
              "        async function convertToInteractive(key) {\n",
              "          const element = document.querySelector('#df-68699d3c-19fa-4547-b5dc-ee006988f77c');\n",
              "          const dataTable =\n",
              "            await google.colab.kernel.invokeFunction('convertToInteractive',\n",
              "                                                     [key], {});\n",
              "          if (!dataTable) return;\n",
              "\n",
              "          const docLinkHtml = 'Like what you see? Visit the ' +\n",
              "            '<a target=\"_blank\" href=https://colab.research.google.com/notebooks/data_table.ipynb>data table notebook</a>'\n",
              "            + ' to learn more about interactive tables.';\n",
              "          element.innerHTML = '';\n",
              "          dataTable['output_type'] = 'display_data';\n",
              "          await google.colab.output.renderOutput(dataTable, element);\n",
              "          const docLink = document.createElement('div');\n",
              "          docLink.innerHTML = docLinkHtml;\n",
              "          element.appendChild(docLink);\n",
              "        }\n",
              "      </script>\n",
              "    </div>\n",
              "  </div>\n",
              "  "
            ]
          },
          "metadata": {},
          "execution_count": 259
        }
      ]
    },
    {
      "cell_type": "code",
      "source": [
        "max_nutrition += pl.lpSum([food_vars[x]*Calories[x] for x in food]) >= 800, \"CaloriesMinimum\"\n",
        "max_nutrition += pl.lpSum([food_vars[x]*Calories[x] for x in food]) <= 1300, \"CaloriesMaximum\"\n",
        "max_nutrition"
      ],
      "metadata": {
        "colab": {
          "base_uri": "https://localhost:8080/"
        },
        "id": "pUbqUSPSZDur",
        "outputId": "3dae81ba-07d1-4094-e56b-8704df5fd23e"
      },
      "execution_count": null,
      "outputs": [
        {
          "output_type": "execute_result",
          "data": {
            "text/plain": [
              "diet_Problem:\n",
              "MINIMIZE\n",
              "0.48*Foods_Apple_Pie + 0.45*Foods_Banana + 0.81*Foods_Beef_Frankfurter + 0.09*Foods_Chocolate_Chip_Cookies + 0.48*Foods_Frozen_Broccoli + 0.54*Foods_Frozen_Corn + 0.27*Foods_Oatmeal_Cookies + 0.72*Foods_Raw_Apple + 0.06*Foods_Raw_Lettuce_Iceberg + 2.52*Foods_Roasted_Chicken + 0.33*Foods_Scrambled_Eggs + 2.34*Foods_Spaghetti_W__Sauce + 0.93*Foods_Tofu + 0.45*Foods_Turkey_Bologna + 0.15*Foods_Wheat_Bread + 0.18*Foods_White_Bread + 0.18*Foods__Baked_Potatoes + 0.0\n",
              "SUBJECT TO\n",
              "CaloriesMinimum: 67.2 Foods_Apple_Pie + 104.9 Foods_Banana\n",
              " + 141.8 Foods_Beef_Frankfurter + 78.1 Foods_Chocolate_Chip_Cookies\n",
              " + 73.8 Foods_Frozen_Broccoli + 72.2 Foods_Frozen_Corn\n",
              " + 81 Foods_Oatmeal_Cookies + 81.4 Foods_Raw_Apple\n",
              " + 2.6 Foods_Raw_Lettuce_Iceberg + 277.4 Foods_Roasted_Chicken\n",
              " + 99.6 Foods_Scrambled_Eggs + 358.2 Foods_Spaghetti_W__Sauce\n",
              " + 88.2 Foods_Tofu + 56.4 Foods_Turkey_Bologna + 65 Foods_Wheat_Bread\n",
              " + 65 Foods_White_Bread + 171.5 Foods__Baked_Potatoes >= 800\n",
              "\n",
              "CaloriesMaximum: 67.2 Foods_Apple_Pie + 104.9 Foods_Banana\n",
              " + 141.8 Foods_Beef_Frankfurter + 78.1 Foods_Chocolate_Chip_Cookies\n",
              " + 73.8 Foods_Frozen_Broccoli + 72.2 Foods_Frozen_Corn\n",
              " + 81 Foods_Oatmeal_Cookies + 81.4 Foods_Raw_Apple\n",
              " + 2.6 Foods_Raw_Lettuce_Iceberg + 277.4 Foods_Roasted_Chicken\n",
              " + 99.6 Foods_Scrambled_Eggs + 358.2 Foods_Spaghetti_W__Sauce\n",
              " + 88.2 Foods_Tofu + 56.4 Foods_Turkey_Bologna + 65 Foods_Wheat_Bread\n",
              " + 65 Foods_White_Bread + 171.5 Foods__Baked_Potatoes <= 1300\n",
              "\n",
              "VARIABLES\n",
              "Foods_Apple_Pie Continuous\n",
              "Foods_Banana Continuous\n",
              "Foods_Beef_Frankfurter Continuous\n",
              "Foods_Chocolate_Chip_Cookies Continuous\n",
              "Foods_Frozen_Broccoli Continuous\n",
              "Foods_Frozen_Corn Continuous\n",
              "Foods_Oatmeal_Cookies Continuous\n",
              "Foods_Raw_Apple Continuous\n",
              "Foods_Raw_Lettuce_Iceberg Continuous\n",
              "Foods_Roasted_Chicken Continuous\n",
              "Foods_Scrambled_Eggs Continuous\n",
              "Foods_Spaghetti_W__Sauce Continuous\n",
              "Foods_Tofu Continuous\n",
              "Foods_Turkey_Bologna Continuous\n",
              "Foods_Wheat_Bread Continuous\n",
              "Foods_White_Bread Continuous\n",
              "Foods__Baked_Potatoes Continuous"
            ]
          },
          "metadata": {},
          "execution_count": 260
        }
      ]
    },
    {
      "cell_type": "code",
      "source": [
        "#Carbohydrates' constraint\n",
        "max_nutrition += pl.lpSum([food_vars[i]*Carbohydrates[i] for i in x]) >= 130, \"CarbsMinimum\"\n",
        "max_nutrition += pl.lpSum([food_vars[i]*Carbohydrates[i] for i in x]) <= 200, \"CarbsMaximum\"\n",
        "\n",
        "#Fat's constraint\n",
        "max_nutrition += pl.lpSum([food_vars[i]*Total_Fat[i] for i in x]) >= 20, \"FatsMinimum\"\n",
        "max_nutrition += pl.lpSum([food_vars[i]*Total_Fat[i] for i in x]) <= 50, \"FatsMaximum\"\n",
        "\n",
        "#Protein's constraint\n",
        "max_nutrition += pl.lpSum([food_vars[i]*Protein[i] for i in x]) >= 100, \"ProteinsMinimum\"\n",
        "max_nutrition += pl.lpSum([food_vars[i]*Protein[i] for i in x]) <= 150, \"ProteinsMaximum\"\n",
        "\n",
        "#Vit_A constraint\n",
        "max_nutrition += pl.lpSum([food_vars[i]*Vit_A[i] for i in x]) >= 1000, \"Vit_A_Minimum\"\n",
        "max_nutrition += pl.lpSum([food_vars[i]*Vit_A[i] for i in x]) <= 10000, \"Vit_A_Maximum\""
      ],
      "metadata": {
        "id": "7YdRwcCaZNij"
      },
      "execution_count": null,
      "outputs": []
    },
    {
      "cell_type": "code",
      "source": [
        "max_nutrition.solve()\n"
      ],
      "metadata": {
        "colab": {
          "base_uri": "https://localhost:8080/"
        },
        "id": "Xnnz4IlrZcG7",
        "outputId": "c22ffd44-37f3-45f3-d482-53d69b52f04c"
      },
      "execution_count": null,
      "outputs": [
        {
          "output_type": "execute_result",
          "data": {
            "text/plain": [
              "1"
            ]
          },
          "metadata": {},
          "execution_count": 263
        }
      ]
    },
    {
      "cell_type": "code",
      "source": [
        "max_nutrition.solver"
      ],
      "metadata": {
        "colab": {
          "base_uri": "https://localhost:8080/"
        },
        "id": "fqZZOPcpZwXS",
        "outputId": "07734d8f-771f-48f9-bc65-c40136cb6651"
      },
      "execution_count": null,
      "outputs": [
        {
          "output_type": "execute_result",
          "data": {
            "text/plain": [
              "<pulp.apis.coin_api.PULP_CBC_CMD at 0x7f87ac6f9c10>"
            ]
          },
          "metadata": {},
          "execution_count": 264
        }
      ]
    },
    {
      "cell_type": "code",
      "source": [
        "pl.LpStatus[max_nutrition.status]"
      ],
      "metadata": {
        "colab": {
          "base_uri": "https://localhost:8080/",
          "height": 35
        },
        "id": "SYYtrrPpa7zp",
        "outputId": "7f987ce6-f060-435b-bf7d-df96b9a75476"
      },
      "execution_count": null,
      "outputs": [
        {
          "output_type": "execute_result",
          "data": {
            "text/plain": [
              "'Optimal'"
            ],
            "application/vnd.google.colaboratory.intrinsic+json": {
              "type": "string"
            }
          },
          "metadata": {},
          "execution_count": 266
        }
      ]
    },
    {
      "cell_type": "code",
      "source": [
        "# prob.variables()[1].varValue()\n",
        "\n",
        "for var in max_nutrition.variables():\n",
        "    print(f'Variable name: {var.name} , Variable value : {var.value()}\\n')\n",
        "\n",
        "print('\\n')\n",
        "print('*'*100)\n",
        "print('\\n')\n",
        "\n",
        "#We can also see the slack variables of the constraints\n",
        "for name, con in max_nutrition.constraints.items():\n",
        "    print(f'constraint name:{name}, constraint value:{con.value()}\\n')\n",
        "\n",
        "print('*'*100)\n",
        "print('\\n')\n",
        "\n",
        "## OBJECTIVE VALUE\n",
        "print(f'OBJECTIVE VALUE IS: {round(max_nutrition.objective.value(),2)}')"
      ],
      "metadata": {
        "colab": {
          "base_uri": "https://localhost:8080/"
        },
        "id": "G6I0Hgq6a_3x",
        "outputId": "16c78ae1-7af4-4b36-db8b-ee7b0faa5282"
      },
      "execution_count": null,
      "outputs": [
        {
          "output_type": "stream",
          "name": "stdout",
          "text": [
            "Variable name: Foods_Apple_Pie , Variable value : 0.0\n",
            "\n",
            "Variable name: Foods_Banana , Variable value : 0.0\n",
            "\n",
            "Variable name: Foods_Beef_Frankfurter , Variable value : 0.0\n",
            "\n",
            "Variable name: Foods_Chocolate_Chip_Cookies , Variable value : 0.0\n",
            "\n",
            "Variable name: Foods_Frozen_Broccoli , Variable value : 1.4079473\n",
            "\n",
            "Variable name: Foods_Frozen_Corn , Variable value : 0.0\n",
            "\n",
            "Variable name: Foods_Oatmeal_Cookies , Variable value : 0.0\n",
            "\n",
            "Variable name: Foods_Raw_Apple , Variable value : 0.0\n",
            "\n",
            "Variable name: Foods_Raw_Lettuce_Iceberg , Variable value : 0.0\n",
            "\n",
            "Variable name: Foods_Roasted_Chicken , Variable value : 1.2329408\n",
            "\n",
            "Variable name: Foods_Scrambled_Eggs , Variable value : 4.0165704\n",
            "\n",
            "Variable name: Foods_Spaghetti_W__Sauce , Variable value : 0.0\n",
            "\n",
            "Variable name: Foods_Tofu , Variable value : 0.0\n",
            "\n",
            "Variable name: Foods_Turkey_Bologna , Variable value : 0.0\n",
            "\n",
            "Variable name: Foods_Wheat_Bread , Variable value : 0.0\n",
            "\n",
            "Variable name: Foods_White_Bread , Variable value : 0.0\n",
            "\n",
            "Variable name: Foods__Baked_Potatoes , Variable value : 2.6473778\n",
            "\n",
            "\n",
            "\n",
            "****************************************************************************************************\n",
            "\n",
            "\n",
            "constraint name:CaloriesMinimum, constraint value:499.9999932\n",
            "\n",
            "constraint name:CaloriesMaximum, constraint value:-6.800000107887172e-06\n",
            "\n",
            "constraint name:CarbsMinimum, constraint value:-9.799999975967921e-07\n",
            "\n",
            "constraint name:CarbsMaximum, constraint value:-70.00000097999998\n",
            "\n",
            "constraint name:FatsMinimum, constraint value:24.292557960000003\n",
            "\n",
            "constraint name:FatsMaximum, constraint value:-5.70744204\n",
            "\n",
            "constraint name:ProteinsMinimum, constraint value:-2.999999928476882e-07\n",
            "\n",
            "constraint name:ProteinsMaximum, constraint value:-50.00000029999998\n",
            "\n",
            "constraint name:Vit_A_Minimum, constraint value:9000.000213619998\n",
            "\n",
            "constraint name:Vit_A_Maximum, constraint value:0.00021361999915825436\n",
            "\n",
            "****************************************************************************************************\n",
            "\n",
            "\n",
            "OBJECTIVE VALUE IS: 5.58\n"
          ]
        }
      ]
    },
    {
      "cell_type": "markdown",
      "source": [
        "esult:** The optimal value of the Diet is $5.58. Which includes the following food items: \n",
        "\n",
        "--> 2.64 servings of baked potatoes\n",
        "\n",
        "--> 4.02 servings of scrambled eggs\n",
        "\n",
        "--> 1.23 servings of Roasted chicken\n",
        "\n",
        "--> 1.41 servings of Frozen broccoli\n"
      ],
      "metadata": {
        "id": "DIFiOG03b-o6"
      }
    },
    {
      "cell_type": "code",
      "source": [],
      "metadata": {
        "id": "MSTbiwofb_rf"
      },
      "execution_count": null,
      "outputs": []
    }
  ]
}